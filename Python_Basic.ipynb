{
  "nbformat": 4,
  "nbformat_minor": 0,
  "metadata": {
    "colab": {
      "provenance": []
    },
    "kernelspec": {
      "name": "python3",
      "display_name": "Python 3"
    },
    "language_info": {
      "name": "python"
    }
  },
  "cells": [
    {
      "cell_type": "markdown",
      "source": [
        "# THEORY QUESTIONS\n",
        "\n"
      ],
      "metadata": {
        "id": "LO7eWrgKneC-"
      }
    },
    {
      "cell_type": "markdown",
      "source": [
        "**1 What is Python, and why is it popular**\n",
        "  \n",
        "  -Python is a interpreted programming language. It is object oriented and high   level. It provides beginner friendly syntax which makes it easy to learn.\n",
        "  -Python is popular because of its many features like:\n",
        "    a. It provides wide variety of libraries(ex: numpy, pandas, seaborn, matplotlib)\n",
        "    b. It is scalable\n",
        "    c. It is object oriented\n",
        "    d. It is free and open source\n",
        "\n",
        "\n",
        "**2 What is an interpreter in Python**\n",
        "  \n",
        "  -Interpreter is a program that executes the code line by line\n",
        "  -A Python interpreter is a computer program that takes the Python code and converts it into machine code.\n",
        "  -It translates the code you write into instructions that the computer can understand, executing them line by line.\n",
        "\n",
        "**3 What are pre-defined keywords in Python**\n",
        "  \n",
        "  -Keywords in Python are predefined words, that are not to be used as any other kind of identifiers like for example,variable names or function names. These keywords are a part of the syntax in the language with a special meaning associated with them.\n",
        "  -Example: False, None, True, and, as, assert\n",
        "\n",
        "**4 Can keywords be used as variable names**\n",
        "  \n",
        "  -Since keywords are prdefined words with special meaning, they cannot be used as a variable name\n",
        "\n",
        "**5 What is mutability in Python**\n",
        "  \n",
        "  -In Python, the terms “mutable” refer to the ability of an object to be changed after it is created.\n",
        "  -This means that you can alter its internal data or attributes without creating a new object. Examples of mutable objects in Python include lists, dictionaries, and sets.\n",
        "\n",
        "**6 Why are lists mutable, but tuples are immutable**\n",
        "  \n",
        "  -Mutable: Mutable is when something is changeable or has the ability to change. In Python, ‘mutable’ is the ability of objects to change their values. These are often the objects that store a collection of data. Since list has the ability to change its items after creation that is why it is mutable\n",
        "  -Immutable: Immutable is the when no change is possible over time. In Python, if the value of an object cannot be changed over time, then it is known as immutable. Once created, the value of these objects is permanent.Since tuples does not have the ability to change its item after creation that is why it is immutable\n",
        "\n",
        "**7 What is the difference between “==” and “is” operators in Python**\n",
        "  \n",
        "  -In Python, == and is operators are both used for comparison but they serve different purposes. The == operator checks for equality of values which means it evaluates whether the values of two objects are the same. On the other hand, is operator checks for identity, meaning it determines whether two variables point to the same object in memory.\n",
        "  -Example of '==' operator:\n",
        "  x = [1, 2, 3]\n",
        "  y = [1, 2, 3]\n",
        "  z = x\n",
        "  ##### Equality comparison (==)\n",
        "  if x == y:\n",
        "    print(\"True\")\n",
        "  else:\n",
        "    print(\"False\")\n",
        "\n",
        "   -Example of 'is' operator:\n",
        "  x = [1, 2, 3]\n",
        "  y = [1, 2, 3]\n",
        "  z = x\n",
        "  ##### Identity comparison (is)\n",
        "  if x is y:\n",
        "    print(\"True\")\n",
        "  else:\n",
        "    print(\"False\")\n",
        "\n",
        "\n",
        "**8 What are logical operators in Python**\n",
        "  \n",
        "  -Python logical operators are used to combine conditional statements, allowing you to perform operations based on multiple conditions.\n",
        "  -Example: Logical Operators (AND, OR, NOT) with generic variables\n",
        "  a, b, c = True, False, True\n",
        "\n",
        "  ##### AND: Both conditions must be True\n",
        "  if a and c:\n",
        "    print(\"Both a and c are True (AND condition).\")\n",
        "\n",
        "  ##### OR: At least one condition must be True\n",
        "  if b or c:\n",
        "    print(\"Either b or c is True (OR condition).\")\n",
        "\n",
        "  ##### NOT: Reverses the condition\n",
        "  if not b:\n",
        "    print(\"b is False (NOT condition).\")\n",
        "\n",
        "**9 What is type casting in Python**\n",
        "  \n",
        "  -Type Casting is the method to convert the Python variable datatype into a certain data type in order to perform the required operation by users.\n",
        "  -Example:\n",
        "  ##### int variable\n",
        "  a = 5\n",
        "  ##### typecast to float\n",
        "  n = float(a)\n",
        "  print(n)\n",
        "  print(type(n))\n",
        "\n",
        "**10 What is the difference between implicit and explicit type casting**\n",
        "  \n",
        "  -There can be two types of Type Casting in Python:\n",
        "    a. Python Implicit Type Conversion:\n",
        "       Python converts the datatype into another datatype automatically.\n",
        "       Example:\n",
        "        a to int\n",
        "        a = 7\n",
        "        print(type(a))\n",
        "        # Python automatically converts\n",
        "        # b to float\n",
        "        b = 3.0\n",
        "        print(type(b))\n",
        "        # Python automatically converts\n",
        "        # c to float as it is a float addition\n",
        "        c = a + b\n",
        "        print(c)\n",
        "        print(type(c))\n",
        "    b. Python Explicit Type Conversion:\n",
        "       Python needs user involvement to convert the variable data type into the required data type.\n",
        "       Example:\n",
        "        # int variable\n",
        "        a = 5\n",
        "        # typecast to float\n",
        "        n = float(a)\n",
        "        print(n)\n",
        "        print(type(n))\n",
        "\n",
        "\n",
        "**11 What is the purpose of conditional statements in Python**\n",
        "  \n",
        "  -Conditional statements in Python are used to execute certain blocks of code based on specific conditions. These statements help control the flow of a program, making it behave differently in different situations.\n",
        "  -Examples: if,else,elif,nested if-else\n",
        "\n",
        "**12 How does the elif statement work**\n",
        "  \n",
        "  -elif statement in Python stands for \"else if.\" It allows us to check multiple conditions , providing a way to execute different blocks of code based on which condition is true.\n",
        "  -Example:\n",
        "    age = 25\n",
        "    if age <= 12:\n",
        "      print(\"Child.\")\n",
        "    elif age <= 19:\n",
        "      print(\"Teenager.\")\n",
        "    elif age <= 35:\n",
        "      print(\"Young adult.\")\n",
        "    else:\n",
        "      print(\"Adult.\")\n",
        "\n",
        "**13 What is the difference between for and while loops**\n",
        "  \n",
        "  -For loop:\n",
        "    In Python, a 'for loop' is used to iterate over a sequence of items, such as a Python tuple, list, string, or range. The loop will execute a block of statements for each item in the sequence.\n",
        "    Example:\n",
        "      # Create a list of items\n",
        "      items = ['pen', 'notebook',\n",
        "         'pencil', 'lunch box']\n",
        "      # Run a loop to print\n",
        "      # items in a list\n",
        "      for item in items:\n",
        "      print(item)\n",
        "  -While loop:\n",
        "    In Python, a while loop is used to repeatedly execute a block of statements while a condition is true. The loop will continue to run as long as the condition remains true.\n",
        "    Example:\n",
        "      # Create a list of items\n",
        "      items = ['pen', 'notebook',\n",
        "         'pencil', 'lunch box']\n",
        "      # Declare a index\n",
        "      index = 0\n",
        "      # Store length of items list\n",
        "      items_len = len(items)\n",
        "      # Run a loop to print\n",
        "      # items in a list\n",
        "      while index<items_len:\n",
        "      print(items[index])\n",
        "      index = index+1    \n",
        "\n",
        "**14 Describe a scenario where a while loop is more suitable than a for loop.**\n",
        "  \n",
        "  -A while loop is more suitable than a for loop in Python when the number of iterations is not known in advance and the loop's continuation depends on a dynamic condition.\n",
        "  -Running a process until a certain condition is met"
      ],
      "metadata": {
        "id": "vXNTpDhJ5JnS"
      }
    },
    {
      "cell_type": "markdown",
      "source": [
        "\n",
        "\n",
        "---\n",
        "\n",
        "\n",
        "\n",
        "---\n",
        "\n"
      ],
      "metadata": {
        "id": "ya05_ZIZY94f"
      }
    },
    {
      "cell_type": "markdown",
      "source": [
        "# PRACTICAL QUESTIONS"
      ],
      "metadata": {
        "id": "7NC4V5DQnBiD"
      }
    },
    {
      "cell_type": "code",
      "execution_count": null,
      "metadata": {
        "colab": {
          "base_uri": "https://localhost:8080/"
        },
        "id": "4W85pYVF5HQe",
        "outputId": "0fed9809-adbb-4eb2-c91e-bd7a3feb8685"
      },
      "outputs": [
        {
          "output_type": "stream",
          "name": "stdout",
          "text": [
            "Hello, World!y\n"
          ]
        }
      ],
      "source": [
        "## 1. Write a Python program to print \"Hello, World!y\n",
        "print('Hello, World!y')"
      ]
    },
    {
      "cell_type": "code",
      "source": [
        "### 2. Write a Python program that displays your name and age8\n",
        "Name = input('Enter your name: ')\n",
        "Age = int(input('Enter your age: '))\n",
        "print('My name is: ',Name)\n",
        "print('My age is: ',Age)"
      ],
      "metadata": {
        "colab": {
          "base_uri": "https://localhost:8080/"
        },
        "id": "HlosVp1H7KqX",
        "outputId": "7d28fb9b-8c8d-4e1b-88ee-770a8956400b"
      },
      "execution_count": null,
      "outputs": [
        {
          "output_type": "stream",
          "name": "stdout",
          "text": [
            "Enter your name: Eram Aiysha\n",
            "Enter your age: 31\n",
            "My name is:  Eram Aiysha\n",
            "My age is:  31\n"
          ]
        }
      ]
    },
    {
      "cell_type": "code",
      "source": [
        "### 3. Write code to print all the pre-defined keywords in Python using the keyword library8\n",
        "import keyword\n",
        "key_words = keyword.kwlist\n",
        "print('The predined keywords are: ')\n",
        "for i in key_words:\n",
        "  print(i)"
      ],
      "metadata": {
        "colab": {
          "base_uri": "https://localhost:8080/"
        },
        "id": "xqHLfaOZ71iP",
        "outputId": "319a0638-e0d0-4025-a903-faf9b1887650"
      },
      "execution_count": null,
      "outputs": [
        {
          "output_type": "stream",
          "name": "stdout",
          "text": [
            "The predined keywords are: \n",
            "False\n",
            "None\n",
            "True\n",
            "and\n",
            "as\n",
            "assert\n",
            "async\n",
            "await\n",
            "break\n",
            "class\n",
            "continue\n",
            "def\n",
            "del\n",
            "elif\n",
            "else\n",
            "except\n",
            "finally\n",
            "for\n",
            "from\n",
            "global\n",
            "if\n",
            "import\n",
            "in\n",
            "is\n",
            "lambda\n",
            "nonlocal\n",
            "not\n",
            "or\n",
            "pass\n",
            "raise\n",
            "return\n",
            "try\n",
            "while\n",
            "with\n",
            "yield\n"
          ]
        }
      ]
    },
    {
      "cell_type": "code",
      "source": [
        "### 4. Write a program that checks if a given word is a Python keyword.\n",
        "import keyword\n",
        "key_word= keyword.kwlist\n",
        "Word = input('Enter a word: ')\n",
        "if Word in key_word:\n",
        "    print('The given word is a keyword in python.')\n",
        "else:\n",
        "    print('The given word in not a keyword in python.')"
      ],
      "metadata": {
        "colab": {
          "base_uri": "https://localhost:8080/"
        },
        "id": "ukS4_ZFm8bdt",
        "outputId": "1be77181-d866-46e3-c533-bc8637b1e382"
      },
      "execution_count": null,
      "outputs": [
        {
          "output_type": "stream",
          "name": "stdout",
          "text": [
            "Enter a word: continue\n",
            "The given word is a keyword in python.\n"
          ]
        }
      ]
    },
    {
      "cell_type": "code",
      "source": [
        "### 5. Create a list and tuple in Python, and demonstrate how attempting to change an element works differently for each.\n",
        "\n",
        "### Making new list and tuple:\n",
        "new_list = []\n",
        "new_tuple = ()\n",
        "\n",
        "### taking user input:\n",
        "new_list = input('Enter the items for the list: ')\n",
        "new_tuple  = input('Enter the items for the tuple: ')\n",
        "\n",
        "### Separating the list and tuple with come separated:\n",
        "new_list = new_list.split(',')\n",
        "new_tuple = tuple(new_tuple.split(','))\n",
        "\n",
        "print('The list is: ',new_list)\n",
        "print('The tuple is: ',new_tuple)\n",
        "\n",
        "### The list is:  Biscuits, Juice, Fruits, Vegetable, Napkins, Detergents\n",
        "### The tuple is:  Lipstick, Concealer, Foundation, Highlighter, Compact, Primer\n",
        "\n",
        "### Changing item in new_list:\n",
        "print('The item at the first place is: ',new_list[1])\n",
        "new_list[1]= input('Enter the item that you want: ')\n",
        "print('New list after changing the first item: ',new_list)\n",
        "\n",
        "### Changing item in new_tuple:\n",
        "print('The item at the first place is: ',new_tuple[1])\n",
        "try:\n",
        "    new_tuple[1]= input('Enter the item that you want: ')\n",
        "except:\n",
        "    print('Tuples are immutable.')\n",
        "\n",
        "print('Since tuples are immutable, the tuple remains the same: ',new_tuple)"
      ],
      "metadata": {
        "colab": {
          "base_uri": "https://localhost:8080/"
        },
        "id": "70VfSWwNDtWG",
        "outputId": "2bc21fe2-3f3c-473e-a020-2c9f577fda91"
      },
      "execution_count": null,
      "outputs": [
        {
          "output_type": "stream",
          "name": "stdout",
          "text": [
            "Enter the items for the list: Biscuits, Juice, Fruits, Vegetable, Napkins, Detergents\n",
            "Enter the items for the tuple: Lipstick, Concealer, Foundation, Highlighter, Compact, Primer\n",
            "The list is:  ['Biscuits', ' Juice', ' Fruits', ' Vegetable', ' Napkins', ' Detergents']\n",
            "The tuple is:  ('Lipstick', ' Concealer', ' Foundation', ' Highlighter', ' Compact', ' Primer')\n",
            "The item at the first place is:   Juice\n",
            "Enter the item that you want: Soda\n",
            "New list after changing the first item:  ['Biscuits', 'Soda', ' Fruits', ' Vegetable', ' Napkins', ' Detergents']\n",
            "The item at the first place is:   Concealer\n",
            "Enter the item that you want: Eyeliner\n",
            "Tuples are immutable.\n",
            "Since tuples are immutable, the tuple remains the same:  ('Lipstick', ' Concealer', ' Foundation', ' Highlighter', ' Compact', ' Primer')\n"
          ]
        }
      ]
    },
    {
      "cell_type": "code",
      "source": [
        "### 6. Write a function to demonstrate the behavior of mutable and immutable arguments.\n",
        "\n",
        "new_list = [1,2,3,4,5]\n",
        "new_tuple = (10,20,30,40,50)\n",
        "\n",
        "def Behavior(mutable_arg,immutable_arg):\n",
        "  if isinstance(mutable_arg,list):\n",
        "    print('List is mutable')\n",
        "    print('Original list: ',mutable_arg)\n",
        "    mutable_arg.append(6)\n",
        "  else:\n",
        "    print('Tuple is immutable')\n",
        "\n",
        "print('List before changing the item: ',new_list)\n",
        "Behavior(new_list,6)\n",
        "print('List after changing the item: ',new_list)\n",
        "\n",
        "print('Tuple before changing the item: ',new_tuple)\n",
        "Behavior(new_tuple,60)\n",
        "print('Tuple after changing the item: ',new_tuple)"
      ],
      "metadata": {
        "colab": {
          "base_uri": "https://localhost:8080/"
        },
        "id": "F99iDI26JasP",
        "outputId": "d76bbf76-15d8-4bfa-9c8a-fade3829ff25"
      },
      "execution_count": null,
      "outputs": [
        {
          "output_type": "stream",
          "name": "stdout",
          "text": [
            "List before changing the item:  [1, 2, 3, 4, 5]\n",
            "List is mutable\n",
            "Original list:  [1, 2, 3, 4, 5]\n",
            "List after changing the item:  [1, 2, 3, 4, 5, 6]\n",
            "Tuple before changing the item:  (10, 20, 30, 40, 50)\n",
            "Tuple is immutable\n",
            "Tuple after changing the item:  (10, 20, 30, 40, 50)\n"
          ]
        }
      ]
    },
    {
      "cell_type": "code",
      "source": [
        "### 7. Write a program that performs basic arithmetic operations on two user-input numbers.\n",
        "\n",
        "### Taking user input:\n",
        "num1 = int(input('Enter first number: '))\n",
        "num2 = int(input('Enter second number: '))\n",
        "\n",
        "### Performing arithmatic operation:\n",
        "def addition(num1,num2):\n",
        "  sum = num1 + num2\n",
        "  return sum\n",
        "\n",
        "def substraction(num1,num2):\n",
        "  sub = num1 - num2\n",
        "  return sub\n",
        "\n",
        "def multiplication(num1,num2):\n",
        "  mult = num1 * num2\n",
        "  return mult\n",
        "\n",
        "def division(num1,num2):\n",
        "  div = num1 / num2\n",
        "  return div\n",
        "\n",
        "# Call the functions with the user input and print the results\n",
        "print(\"Addition is:\", addition(num1, num2))\n",
        "print(\"Substraction is:\", substraction(num1, num2))\n",
        "print(\"Multiplication is:\", multiplication(num1, num2))\n",
        "print(\"Division is:\", division(num1, num2))"
      ],
      "metadata": {
        "colab": {
          "base_uri": "https://localhost:8080/"
        },
        "id": "SMsGBlP9P1OY",
        "outputId": "858b0440-ba79-4dc9-931c-4f0d4ce21faa"
      },
      "execution_count": null,
      "outputs": [
        {
          "output_type": "stream",
          "name": "stdout",
          "text": [
            "Enter first number: 2\n",
            "Enter second number: 5\n",
            "Addition is: 7\n",
            "Substraction is: -3\n",
            "Multiplication is: 10\n",
            "Division is: 0.4\n"
          ]
        }
      ]
    },
    {
      "cell_type": "code",
      "source": [
        "### 8. Write a program to demonstrate the use of logical operators.\n",
        "### using AND,OR,NOT:\n",
        "\n",
        "### AND(Example of grading system based on the marks scored)\n",
        "marks_scored= int(input('Enter your marks: '))\n",
        "if marks_scored>=80 and marks_scored<=100:\n",
        "  print('You have scored Grade A')\n",
        "elif marks_scored>=60 and marks_scored<=79:\n",
        "  print('You have scored Grade B')\n",
        "elif marks_scored>=40 and marks_scored<=59:\n",
        "  print('You have scored Grade C')\n",
        "elif marks_scored>=35 and marks_scored<=39:\n",
        "  print('You have scored Grade D')\n",
        "else:\n",
        "  print('You have faild the exam!')\n",
        "\n",
        "\n",
        "### OR:(Example of whether it will rain or not)\n",
        "weather = input('Enter the weather condition: ')\n",
        "if weather =='Cloudy' or weather =='Rainy':\n",
        "  print('It will rain, dont forget to carry your umbrella')\n",
        "else:\n",
        "  print('Dont carry your umbrella, it wont rain because its a sunny day')\n",
        "\n",
        "\n",
        "### NOT:(Example of whether the item is present in the list or not)\n",
        "new_list = []\n",
        "new_list = input('Enter the items in the list: ')\n",
        "\n",
        "search_item=input('Enter the item to be searched from the list: ')\n",
        "\n",
        "if search_item not in new_list:\n",
        "  print('The item is not there in the list')\n",
        "else:\n",
        "  print('Okay we got the item in the list')\n"
      ],
      "metadata": {
        "colab": {
          "base_uri": "https://localhost:8080/"
        },
        "id": "uqy1h_jcVC3D",
        "outputId": "d48ec130-b7f9-40c7-e9fc-a6c8d989fa4b"
      },
      "execution_count": null,
      "outputs": [
        {
          "output_type": "stream",
          "name": "stdout",
          "text": [
            "Enter your marks: 75\n",
            "You have scored Grade B\n",
            "Enter the weather condition: Rainy\n",
            "It will rain, dont forget to carry your umbrella\n",
            "Enter the items in the list: 1,5,10,15,20\n",
            "Enter the item to be searched from the list: 13\n",
            "The item is not there in the list\n"
          ]
        }
      ]
    },
    {
      "cell_type": "code",
      "source": [
        "### 9. Write a Python program to convert user input from string to integer, float, and boolean types\n",
        "\n",
        "### taking user input\n",
        "user_input = input('Enter the number: ')\n",
        "print('The number before converting is: ',user_input)\n",
        "\n",
        "### converting to int:\n",
        "user_input_int = int(user_input)\n",
        "print('The number after converting to int is: ',user_input_int)\n",
        "\n",
        "### converting to float:\n",
        "user_input_float = float(user_input)\n",
        "print('The number after converting to float is: ',user_input_float)\n",
        "\n",
        "### converting to boolean:\n",
        "user_input_bool = bool(user_input)\n",
        "print('The number after converting to boolean is: ',user_input_bool)\n"
      ],
      "metadata": {
        "colab": {
          "base_uri": "https://localhost:8080/"
        },
        "id": "LjRDWIjjYd1D",
        "outputId": "8ad4708d-afc3-481e-fece-f372bebcaefe"
      },
      "execution_count": null,
      "outputs": [
        {
          "output_type": "stream",
          "name": "stdout",
          "text": [
            "Enter the number: 101\n",
            "The number before converting is:  101\n",
            "The number after converting to int is:  101\n",
            "The number after converting to float is:  101.0\n",
            "The number after converting to boolean is:  True\n"
          ]
        }
      ]
    },
    {
      "cell_type": "code",
      "source": [
        "# prompt: ### 10. Write code to demonstrate type casting with list elements\n",
        "\n",
        "new_list = (input('Enter the numbers in the list: '))\n",
        "print(type(new_list))\n",
        "new_list = new_list.split(',')\n",
        "\n",
        "# To typecast list elements, you need to iterate through the list\n",
        "# and cast each element individually.\n",
        "for i in range(len(new_list)):\n",
        "  casted_list=float(new_list[i])\n",
        "print(type(casted_list))\n"
      ],
      "metadata": {
        "id": "fm6qB0a9feqb",
        "colab": {
          "base_uri": "https://localhost:8080/"
        },
        "outputId": "30c7ca9b-ad57-4ef7-902a-7844e0ac355b"
      },
      "execution_count": null,
      "outputs": [
        {
          "output_type": "stream",
          "name": "stdout",
          "text": [
            "Enter the numbers in the list: 3.14,10.86,2.56,8.12\n",
            "<class 'str'>\n",
            "<class 'float'>\n"
          ]
        }
      ]
    },
    {
      "cell_type": "code",
      "source": [
        "### 11. Write a program that checks if a number is positive, negative, or zero.\n",
        "num = int(input('Enter the number:'))\n",
        "if num>0:\n",
        "  print('The given number is positive')\n",
        "elif num<0:\n",
        "  print('The given number is negative')\n",
        "else:\n",
        "  print('The given number is equal to zero')"
      ],
      "metadata": {
        "colab": {
          "base_uri": "https://localhost:8080/"
        },
        "id": "UbmkwJjg3ved",
        "outputId": "d8a1f301-6ae2-439a-b0d2-994d2575b5cf"
      },
      "execution_count": null,
      "outputs": [
        {
          "output_type": "stream",
          "name": "stdout",
          "text": [
            "Enter the number:-1\n",
            "The given number is negative\n"
          ]
        }
      ]
    },
    {
      "cell_type": "code",
      "source": [
        "### 12. Write a for loop to print numbers from 1 to 10.\n",
        "for i in range(1,10):\n",
        "  print(i)"
      ],
      "metadata": {
        "colab": {
          "base_uri": "https://localhost:8080/"
        },
        "id": "1J9rM5SN7l02",
        "outputId": "f6dcc7c9-43f8-4bf4-d4b9-7bcd96782049"
      },
      "execution_count": null,
      "outputs": [
        {
          "output_type": "stream",
          "name": "stdout",
          "text": [
            "1\n",
            "2\n",
            "3\n",
            "4\n",
            "5\n",
            "6\n",
            "7\n",
            "8\n",
            "9\n"
          ]
        }
      ]
    },
    {
      "cell_type": "code",
      "source": [
        "### 13. Write a Python program to find the sum of all even numbers between 1 and 50.\n",
        "for i in range(1,50):\n",
        "  if(i%2==0):\n",
        "    sum = sum + i\n",
        "    print(sum)\n"
      ],
      "metadata": {
        "colab": {
          "base_uri": "https://localhost:8080/"
        },
        "id": "NNYEGBfA9Hoc",
        "outputId": "0e83a525-44c9-4c0c-c76e-f86c70f42aa9"
      },
      "execution_count": null,
      "outputs": [
        {
          "output_type": "stream",
          "name": "stdout",
          "text": [
            "2\n",
            "6\n",
            "12\n",
            "20\n",
            "30\n",
            "42\n",
            "56\n",
            "72\n",
            "90\n",
            "110\n",
            "132\n",
            "156\n",
            "182\n",
            "210\n",
            "240\n",
            "272\n",
            "306\n",
            "342\n",
            "380\n",
            "420\n",
            "462\n",
            "506\n",
            "552\n",
            "600\n"
          ]
        }
      ]
    },
    {
      "cell_type": "code",
      "source": [
        "### 14. Write a program to reverse a string using a while loop.\n",
        "new_string= input('Enter the string: ')\n",
        "rev_string = ('')\n",
        "index = len(new_string)-1\n",
        "while index > 0:\n",
        "  rev_string= rev_string + new_string[index]\n",
        "  index=index-1\n",
        "print(rev_string)\n"
      ],
      "metadata": {
        "colab": {
          "base_uri": "https://localhost:8080/"
        },
        "id": "euna1f34ADlT",
        "outputId": "0104e88c-4a33-49aa-d3e8-72d0d4a9ae6a"
      },
      "execution_count": null,
      "outputs": [
        {
          "output_type": "stream",
          "name": "stdout",
          "text": [
            "Enter the string: abcdef\n",
            "fedcb\n"
          ]
        }
      ]
    },
    {
      "cell_type": "code",
      "source": [
        "### 15. Write a Python program to calculate the factorial of a number provided by the user using a while loop.\n",
        "n = int(input('Enter the number: '))\n",
        "fact=1\n",
        "while n>0:\n",
        "  fact = fact*n\n",
        "  n=n-1\n",
        "print(fact)\n"
      ],
      "metadata": {
        "colab": {
          "base_uri": "https://localhost:8080/"
        },
        "id": "NeHNT2ZMEXRU",
        "outputId": "1e0dc4a4-3817-49c3-f81a-961c4c040df6"
      },
      "execution_count": null,
      "outputs": [
        {
          "output_type": "stream",
          "name": "stdout",
          "text": [
            "Enter the number: 5\n",
            "120\n"
          ]
        }
      ]
    }
  ]
}